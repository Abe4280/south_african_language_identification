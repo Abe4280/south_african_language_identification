{
 "cells": [
  {
   "cell_type": "code",
   "execution_count": 1,
   "id": "4b967c34",
   "metadata": {},
   "outputs": [],
   "source": [
    "import numpy as np\n",
    "import pandas as pd\n",
    "\n",
    "# Regex\n",
    "import re\n",
    "\n",
    "from sklearn.preprocessing import LabelEncoder\n",
    "# bag of words\n",
    "from sklearn.feature_extraction.text import TfidfVectorizer\n",
    "from sklearn.feature_extraction.text import CountVectorizer\n",
    "from sklearn.model_selection import train_test_split\n",
    "\n",
    "# Models to use\n",
    "from sklearn.naive_bayes import MultinomialNB, BernoulliNB\n",
    "from sklearn.svm import SVC\n",
    "from sklearn.linear_model import LogisticRegression\n",
    "from sklearn.linear_model import SGDClassifier\n",
    "\n",
    "# Scoring metrics\n",
    "from sklearn.metrics import accuracy_score, f1_score\n",
    "\n",
    "import matplotlib.pyplot as plt\n",
    "plt.style.use('seaborn')"
   ]
  },
  {
   "cell_type": "markdown",
   "id": "3c669698",
   "metadata": {},
   "source": [
    "## Import and Explore"
   ]
  },
  {
   "cell_type": "code",
   "execution_count": 2,
   "id": "c349f616",
   "metadata": {},
   "outputs": [],
   "source": [
    "df = pd.read_csv(\"train_set.csv\")"
   ]
  },
  {
   "cell_type": "code",
   "execution_count": 3,
   "id": "69b087b4",
   "metadata": {},
   "outputs": [
    {
     "data": {
      "text/html": [
       "<div>\n",
       "<style scoped>\n",
       "    .dataframe tbody tr th:only-of-type {\n",
       "        vertical-align: middle;\n",
       "    }\n",
       "\n",
       "    .dataframe tbody tr th {\n",
       "        vertical-align: top;\n",
       "    }\n",
       "\n",
       "    .dataframe thead th {\n",
       "        text-align: right;\n",
       "    }\n",
       "</style>\n",
       "<table border=\"1\" class=\"dataframe\">\n",
       "  <thead>\n",
       "    <tr style=\"text-align: right;\">\n",
       "      <th></th>\n",
       "      <th>lang_id</th>\n",
       "      <th>text</th>\n",
       "    </tr>\n",
       "  </thead>\n",
       "  <tbody>\n",
       "    <tr>\n",
       "      <th>0</th>\n",
       "      <td>xho</td>\n",
       "      <td>umgaqo-siseko wenza amalungiselelo kumaziko ax...</td>\n",
       "    </tr>\n",
       "    <tr>\n",
       "      <th>1</th>\n",
       "      <td>xho</td>\n",
       "      <td>i-dha iya kuba nobulumko bokubeka umsebenzi na...</td>\n",
       "    </tr>\n",
       "    <tr>\n",
       "      <th>2</th>\n",
       "      <td>eng</td>\n",
       "      <td>the province of kwazulu-natal department of tr...</td>\n",
       "    </tr>\n",
       "    <tr>\n",
       "      <th>3</th>\n",
       "      <td>nso</td>\n",
       "      <td>o netefatša gore o ba file dilo ka moka tše le...</td>\n",
       "    </tr>\n",
       "    <tr>\n",
       "      <th>4</th>\n",
       "      <td>ven</td>\n",
       "      <td>khomishini ya ndinganyiso ya mbeu yo ewa maana...</td>\n",
       "    </tr>\n",
       "  </tbody>\n",
       "</table>\n",
       "</div>"
      ],
      "text/plain": [
       "  lang_id                                               text\n",
       "0     xho  umgaqo-siseko wenza amalungiselelo kumaziko ax...\n",
       "1     xho  i-dha iya kuba nobulumko bokubeka umsebenzi na...\n",
       "2     eng  the province of kwazulu-natal department of tr...\n",
       "3     nso  o netefatša gore o ba file dilo ka moka tše le...\n",
       "4     ven  khomishini ya ndinganyiso ya mbeu yo ewa maana..."
      ]
     },
     "execution_count": 3,
     "metadata": {},
     "output_type": "execute_result"
    }
   ],
   "source": [
    "df.head()"
   ]
  },
  {
   "cell_type": "code",
   "execution_count": 4,
   "id": "9e08c2bf",
   "metadata": {},
   "outputs": [
    {
     "data": {
      "text/plain": [
       "(33000, 2)"
      ]
     },
     "execution_count": 4,
     "metadata": {},
     "output_type": "execute_result"
    }
   ],
   "source": [
    "df.shape"
   ]
  },
  {
   "cell_type": "code",
   "execution_count": 5,
   "id": "35230081",
   "metadata": {},
   "outputs": [
    {
     "name": "stdout",
     "output_type": "stream",
     "text": [
      "['xho', 'eng', 'nso', 'ven', 'tsn', 'nbl', 'zul', 'ssw', 'tso', 'sot', 'afr']\n"
     ]
    },
    {
     "data": {
      "text/plain": [
       "11"
      ]
     },
     "execution_count": 5,
     "metadata": {},
     "output_type": "execute_result"
    }
   ],
   "source": [
    "unique_lang = df['lang_id'].unique()\n",
    "print(list(unique_lang))\n",
    "len(list(unique_lang))"
   ]
  },
  {
   "cell_type": "code",
   "execution_count": 6,
   "id": "44ee3d03",
   "metadata": {},
   "outputs": [
    {
     "data": {
      "text/plain": [
       "nso    3000\n",
       "ven    3000\n",
       "eng    3000\n",
       "nbl    3000\n",
       "xho    3000\n",
       "tsn    3000\n",
       "sot    3000\n",
       "tso    3000\n",
       "zul    3000\n",
       "ssw    3000\n",
       "afr    3000\n",
       "Name: lang_id, dtype: int64"
      ]
     },
     "execution_count": 6,
     "metadata": {},
     "output_type": "execute_result"
    }
   ],
   "source": [
    "# Categories are balanced\n",
    "df['lang_id'].value_counts()"
   ]
  },
  {
   "cell_type": "code",
   "execution_count": 7,
   "id": "9bf51248",
   "metadata": {},
   "outputs": [],
   "source": [
    "# Split the data between features and the label\n",
    "X = df['text']\n",
    "y = df['lang_id']"
   ]
  },
  {
   "cell_type": "code",
   "execution_count": 8,
   "id": "c084fdbd",
   "metadata": {},
   "outputs": [],
   "source": [
    "# Encode the labels to numbers\n",
    "le = LabelEncoder()\n",
    "y = le.fit_transform(y)"
   ]
  },
  {
   "cell_type": "code",
   "execution_count": 9,
   "id": "97db237a",
   "metadata": {},
   "outputs": [
    {
     "name": "stdout",
     "output_type": "stream",
     "text": [
      "[9 9 1 ... 1 9 4]\n"
     ]
    }
   ],
   "source": [
    "print(y)"
   ]
  },
  {
   "cell_type": "markdown",
   "id": "6aa53145",
   "metadata": {},
   "source": [
    "## Clean the Text"
   ]
  },
  {
   "cell_type": "code",
   "execution_count": 10,
   "id": "b8c7eef2",
   "metadata": {},
   "outputs": [],
   "source": [
    "def preprocess(X):\n",
    "    # Remove numbers and symbols from text\n",
    "    X.replace(to_replace=r'[!@#$\\(),\"%^\\*\\.\\+\\*?\\[\\]\\$\\^\\(\\)\\{\\}\\|\\\\/?:;~`0-9]*', value='', regex=True)\n",
    "    # Change text to lowercase\n",
    "    X.str.lower()\n",
    "    return X"
   ]
  },
  {
   "cell_type": "code",
   "execution_count": 11,
   "id": "97b347db",
   "metadata": {},
   "outputs": [],
   "source": [
    "X = preprocess(X)"
   ]
  },
  {
   "cell_type": "markdown",
   "id": "d91ffc87",
   "metadata": {},
   "source": [
    "## Fit / Train on train/ test split data"
   ]
  },
  {
   "cell_type": "code",
   "execution_count": 12,
   "id": "5cd90808",
   "metadata": {},
   "outputs": [],
   "source": [
    "# Split the data into training and test sets\n",
    "X_train, X_test, y_train, y_test = train_test_split(X, y, test_size=0.2, random_state=42)"
   ]
  },
  {
   "cell_type": "code",
   "execution_count": 13,
   "id": "308339d5",
   "metadata": {},
   "outputs": [],
   "source": [
    "# Implement a Bag of Words approach.\n",
    "# Tfidf works better than count vectorizer due to weights being assigned to words. \n",
    "tfidf_vectorizer = TfidfVectorizer(use_idf=True)\n",
    "\n",
    "X_train = tfidf_vectorizer.fit_transform(X_train)\n",
    "# Do NOT fit to the test set. ONLY TRANSFORM!\n",
    "X_test = tfidf_vectorizer.transform(X_test)"
   ]
  },
  {
   "cell_type": "code",
   "execution_count": 14,
   "id": "effb8e7a",
   "metadata": {},
   "outputs": [],
   "source": [
    "# Check different models\n",
    "names = [\n",
    "    'Naive Bayes MN',\n",
    "    'Naive Bayes Bernoulli',\n",
    "    'Logistic Regression',  \n",
    "    'Linear SVM',\n",
    "    'Stochastic Gradient Descent'\n",
    "]"
   ]
  },
  {
   "cell_type": "code",
   "execution_count": 15,
   "id": "9ce294d8",
   "metadata": {},
   "outputs": [],
   "source": [
    "classifiers = [\n",
    "    MultinomialNB(),\n",
    "    BernoulliNB(),\n",
    "    LogisticRegression(max_iter=1000), \n",
    "    SVC(),\n",
    "    SGDClassifier()\n",
    "]"
   ]
  },
  {
   "cell_type": "code",
   "execution_count": 16,
   "id": "33ea94dd",
   "metadata": {},
   "outputs": [
    {
     "name": "stdout",
     "output_type": "stream",
     "text": [
      "Fitting Naive Bayes MN on training set...\n",
      "Predicting Naive Bayes MN on training set...\n",
      "F1_score is : 0.9980299054262277\n",
      "\n",
      "Fitting Naive Bayes Bernoulli on training set...\n",
      "Predicting Naive Bayes Bernoulli on training set...\n",
      "F1_score is : 0.9989392771541917\n",
      "\n",
      "Fitting Logistic Regression on training set...\n",
      "Predicting Logistic Regression on training set...\n",
      "F1_score is : 0.9946996764597766\n",
      "\n",
      "Fitting Linear SVM on training set...\n",
      "Predicting Linear SVM on training set...\n",
      "F1_score is : 0.9951627746828265\n",
      "\n",
      "Fitting Stochastic Gradient Descent on training set...\n",
      "Predicting Stochastic Gradient Descent on training set...\n",
      "F1_score is : 0.9965130683137439\n",
      "\n"
     ]
    }
   ],
   "source": [
    "scores = {}\n",
    "for name, clf in zip(names, classifiers):\n",
    "    print(f'Fitting {name} on training set...')\n",
    "    clf.fit(X_train, y_train)\n",
    "    print(f'Predicting {name} on training set...')\n",
    "    y_pred = clf.predict(X_test)\n",
    "    f1 = f1_score(y_test, y_pred, average='weighted')\n",
    "    print(\"F1_score is :\", f1)\n",
    "    print()\n",
    "    scores[name] = f1"
   ]
  },
  {
   "cell_type": "code",
   "execution_count": 17,
   "id": "4bc6013a",
   "metadata": {},
   "outputs": [
    {
     "data": {
      "text/html": [
       "<div>\n",
       "<style scoped>\n",
       "    .dataframe tbody tr th:only-of-type {\n",
       "        vertical-align: middle;\n",
       "    }\n",
       "\n",
       "    .dataframe tbody tr th {\n",
       "        vertical-align: top;\n",
       "    }\n",
       "\n",
       "    .dataframe thead th {\n",
       "        text-align: right;\n",
       "    }\n",
       "</style>\n",
       "<table border=\"1\" class=\"dataframe\">\n",
       "  <thead>\n",
       "    <tr style=\"text-align: right;\">\n",
       "      <th></th>\n",
       "      <th>Naive Bayes MN</th>\n",
       "      <th>Naive Bayes Bernoulli</th>\n",
       "      <th>Logistic Regression</th>\n",
       "      <th>Linear SVM</th>\n",
       "      <th>Stochastic Gradient Descent</th>\n",
       "    </tr>\n",
       "  </thead>\n",
       "  <tbody>\n",
       "    <tr>\n",
       "      <th>0</th>\n",
       "      <td>0.99803</td>\n",
       "      <td>0.998939</td>\n",
       "      <td>0.9947</td>\n",
       "      <td>0.995163</td>\n",
       "      <td>0.996513</td>\n",
       "    </tr>\n",
       "  </tbody>\n",
       "</table>\n",
       "</div>"
      ],
      "text/plain": [
       "   Naive Bayes MN  Naive Bayes Bernoulli  Logistic Regression  Linear SVM  \\\n",
       "0         0.99803               0.998939               0.9947    0.995163   \n",
       "\n",
       "   Stochastic Gradient Descent  \n",
       "0                     0.996513  "
      ]
     },
     "execution_count": 17,
     "metadata": {},
     "output_type": "execute_result"
    }
   ],
   "source": [
    "score_df = pd.DataFrame([scores])\n",
    "score_df"
   ]
  },
  {
   "cell_type": "markdown",
   "id": "c70e48b9",
   "metadata": {},
   "source": [
    "## Fit / Train on all the training data"
   ]
  },
  {
   "cell_type": "code",
   "execution_count": 18,
   "id": "7162f1f1",
   "metadata": {},
   "outputs": [],
   "source": [
    "# Fit and transform all the availble data in the training csv file\n",
    "tfidf_vectorizer_all = TfidfVectorizer(use_idf=True)\n",
    "\n",
    "X = tfidf_vectorizer_all.fit_transform(X) "
   ]
  },
  {
   "cell_type": "code",
   "execution_count": 20,
   "id": "ac7de26d",
   "metadata": {},
   "outputs": [
    {
     "data": {
      "text/plain": [
       "MultinomialNB()"
      ]
     },
     "execution_count": 20,
     "metadata": {},
     "output_type": "execute_result"
    }
   ],
   "source": [
    "# Fit Multinomial Naive Bayes to all the training data\n",
    "naive_bayes_MN_all = MultinomialNB()\n",
    "naive_bayes_MN_all.fit(X, y)"
   ]
  },
  {
   "cell_type": "markdown",
   "id": "e6d1baa2",
   "metadata": {},
   "source": [
    "## Submission"
   ]
  },
  {
   "cell_type": "code",
   "execution_count": 21,
   "id": "9267cac8",
   "metadata": {},
   "outputs": [],
   "source": [
    "# Create a function to perform the necesary steps for submission\n",
    "def submission(vectorizer, model, encoder):\n",
    "    df_test = pd.read_csv(\"test_set.csv\")\n",
    "    # Split the data\n",
    "    X_all_test = df_test['text']\n",
    "    index = df_test['index']\n",
    "    # Preprocess the data\n",
    "    X_all_test = preprocess(X_all_test)\n",
    "    # Transform the test set\n",
    "    X_all_test = vectorizer.transform(X_all_test).toarray()\n",
    "    # Predict with the model\n",
    "    y_prediction_all_test = model.predict(X_all_test)\n",
    "    # Reverse the encoder transform\n",
    "    y_prediction_all_test = encoder.inverse_transform(y_prediction_all_test)\n",
    "    # Convert to a dataframe\n",
    "    df_predictions = pd.DataFrame(y_prediction_all_test, columns=['lang_id'])\n",
    "    # Join the index and the predictions\n",
    "    output = pd.DataFrame({\"index\":df_test['index']})\n",
    "    submission = output.join(df_predictions)\n",
    "    # Create the CSV to Submit\n",
    "    submission.to_csv(\"lang_submission.csv\", index=False)\n",
    "    # Return the submission df\n",
    "    return submission"
   ]
  },
  {
   "cell_type": "code",
   "execution_count": 22,
   "id": "23641c78",
   "metadata": {},
   "outputs": [
    {
     "data": {
      "text/html": [
       "<div>\n",
       "<style scoped>\n",
       "    .dataframe tbody tr th:only-of-type {\n",
       "        vertical-align: middle;\n",
       "    }\n",
       "\n",
       "    .dataframe tbody tr th {\n",
       "        vertical-align: top;\n",
       "    }\n",
       "\n",
       "    .dataframe thead th {\n",
       "        text-align: right;\n",
       "    }\n",
       "</style>\n",
       "<table border=\"1\" class=\"dataframe\">\n",
       "  <thead>\n",
       "    <tr style=\"text-align: right;\">\n",
       "      <th></th>\n",
       "      <th>index</th>\n",
       "      <th>lang_id</th>\n",
       "    </tr>\n",
       "  </thead>\n",
       "  <tbody>\n",
       "    <tr>\n",
       "      <th>0</th>\n",
       "      <td>1</td>\n",
       "      <td>tsn</td>\n",
       "    </tr>\n",
       "    <tr>\n",
       "      <th>1</th>\n",
       "      <td>2</td>\n",
       "      <td>nbl</td>\n",
       "    </tr>\n",
       "    <tr>\n",
       "      <th>2</th>\n",
       "      <td>3</td>\n",
       "      <td>ven</td>\n",
       "    </tr>\n",
       "    <tr>\n",
       "      <th>3</th>\n",
       "      <td>4</td>\n",
       "      <td>ssw</td>\n",
       "    </tr>\n",
       "    <tr>\n",
       "      <th>4</th>\n",
       "      <td>5</td>\n",
       "      <td>afr</td>\n",
       "    </tr>\n",
       "    <tr>\n",
       "      <th>...</th>\n",
       "      <td>...</td>\n",
       "      <td>...</td>\n",
       "    </tr>\n",
       "    <tr>\n",
       "      <th>5677</th>\n",
       "      <td>5678</td>\n",
       "      <td>eng</td>\n",
       "    </tr>\n",
       "    <tr>\n",
       "      <th>5678</th>\n",
       "      <td>5679</td>\n",
       "      <td>nso</td>\n",
       "    </tr>\n",
       "    <tr>\n",
       "      <th>5679</th>\n",
       "      <td>5680</td>\n",
       "      <td>sot</td>\n",
       "    </tr>\n",
       "    <tr>\n",
       "      <th>5680</th>\n",
       "      <td>5681</td>\n",
       "      <td>sot</td>\n",
       "    </tr>\n",
       "    <tr>\n",
       "      <th>5681</th>\n",
       "      <td>5682</td>\n",
       "      <td>tso</td>\n",
       "    </tr>\n",
       "  </tbody>\n",
       "</table>\n",
       "<p>5682 rows × 2 columns</p>\n",
       "</div>"
      ],
      "text/plain": [
       "      index lang_id\n",
       "0         1     tsn\n",
       "1         2     nbl\n",
       "2         3     ven\n",
       "3         4     ssw\n",
       "4         5     afr\n",
       "...     ...     ...\n",
       "5677   5678     eng\n",
       "5678   5679     nso\n",
       "5679   5680     sot\n",
       "5680   5681     sot\n",
       "5681   5682     tso\n",
       "\n",
       "[5682 rows x 2 columns]"
      ]
     },
     "execution_count": 22,
     "metadata": {},
     "output_type": "execute_result"
    }
   ],
   "source": [
    "submission(tfidf_vectorizer_all, naive_bayes_MN_all, le)"
   ]
  }
 ],
 "metadata": {
  "kernelspec": {
   "display_name": "Python 3",
   "language": "python",
   "name": "python3"
  },
  "language_info": {
   "codemirror_mode": {
    "name": "ipython",
    "version": 3
   },
   "file_extension": ".py",
   "mimetype": "text/x-python",
   "name": "python",
   "nbconvert_exporter": "python",
   "pygments_lexer": "ipython3",
   "version": "3.8.8"
  }
 },
 "nbformat": 4,
 "nbformat_minor": 5
}
